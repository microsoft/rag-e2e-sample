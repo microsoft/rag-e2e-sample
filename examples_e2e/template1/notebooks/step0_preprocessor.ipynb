{
 "cells": [
  {
   "cell_type": "code",
   "execution_count": 2,
   "metadata": {},
   "outputs": [
    {
     "name": "stdout",
     "output_type": "stream",
     "text": [
      "0\n"
     ]
    }
   ],
   "source": [
    "from docx2pdf import convert\n",
    "import os\n",
    "\n",
    "directory = '..\\DATA'\n",
    "docx_files = [filename for filename in os.listdir(directory) if filename.endswith('.docx')]\n",
    "name_len_docx = []\n",
    "name_len_pdf = []\n",
    "print(len(docx_files))"
   ]
  },
  {
   "cell_type": "code",
   "execution_count": null,
   "metadata": {},
   "outputs": [],
   "source": [
    "for filename in docx_files:\n",
    "    \n",
    "    docx_path = os.path.join(directory, filename)\n",
    "    # if len(filename)>35:\n",
    "    #     filename = filename[:35]\n",
    "    pdf_path = os.path.join(directory, f\"{os.path.splitext(filename)[0]}.pdf\")\n",
    "\n",
    "    # Check if PDF already exists\n",
    "    if os.path.exists(pdf_path):\n",
    "        print(f\"Skipping conversion for {filename}. PDF already exists.\")\n",
    "        continue\n",
    "\n",
    "    name_len_docx.append(len(docx_path))\n",
    "    print(filename, name_len_docx)\n",
    "    name_len_pdf.append(len(pdf_path))\n",
    "    print(name_len_pdf)\n",
    "    try: \n",
    "        convert(docx_path, pdf_path)\n",
    "    except:\n",
    "        print('Error in converting file, retrying...')\n",
    "        try:\n",
    "            convert(docx_path, pdf_path)\n",
    "        except:\n",
    "            Exception(\"Error in converting file\")\n"
   ]
  }
 ],
 "metadata": {
  "kernelspec": {
   "display_name": "flexenv",
   "language": "python",
   "name": "python3"
  },
  "language_info": {
   "codemirror_mode": {
    "name": "ipython",
    "version": 3
   },
   "file_extension": ".py",
   "mimetype": "text/x-python",
   "name": "python",
   "nbconvert_exporter": "python",
   "pygments_lexer": "ipython3",
   "version": "3.11.4"
  },
  "orig_nbformat": 4
 },
 "nbformat": 4,
 "nbformat_minor": 2
}
