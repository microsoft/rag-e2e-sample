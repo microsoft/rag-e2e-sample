{
 "cells": [
  {
   "cell_type": "code",
   "execution_count": 12,
   "id": "a2469417",
   "metadata": {},
   "outputs": [],
   "source": [
    "import os\n",
    "import sys\n",
    "from dotenv import dotenv_values\n",
    "sys.path.append(\"..\") ## add directory above\n",
    "from chatbot.chatbot_with_memory import qa_chain_ConversationSummaryMemory\n"
   ]
  },
  {
   "cell_type": "code",
   "execution_count": 13,
   "id": "1af107d4",
   "metadata": {},
   "outputs": [],
   "source": [
    "env_name = \"../llm.env\" # change to use your own .env file\n",
    "config = dotenv_values(env_name)\n",
    "\n",
    "os.environ[\"OPENAI_API_TYPE\"] = config[\"OPENAI_API_TYPE\"] #\"azure\"\n",
    "os.environ[\"OPENAI_API_KEY\"] = config['OPENAI_API_KEY']\n",
    "os.environ[\"OPENAI_API_BASE\"] = config['OPENAI_API_BASE']\n",
    "os.environ[\"OPENAI_API_VERSION\"] = config['OPENAI_API_VERSION']"
   ]
  },
  {
   "cell_type": "markdown",
   "id": "e0b0e6f8",
   "metadata": {},
   "source": [
    "## Define Memory Chain"
   ]
  },
  {
   "cell_type": "code",
   "execution_count": 18,
   "id": "4886138d",
   "metadata": {},
   "outputs": [],
   "source": [
    "# Make a Quesion Answer chain function and pass \n",
    "prefix_template = \"\"\"\n",
    "        You are a chatbot having a conversation with a human. \n",
    "        Given the Context, Chat History, and a Human Query, \n",
    "        create a final answer. Don't hallucinate at all. If you don't have an answer, say \"I don't know\". \"\"\"\n",
    "\n",
    "qa_chain = qa_chain_ConversationSummaryMemory(prefix_template = prefix_template, to_debug = False, llm = None)"
   ]
  },
  {
   "cell_type": "code",
   "execution_count": 19,
   "id": "0b8b3986",
   "metadata": {},
   "outputs": [
    {
     "name": "stdout",
     "output_type": "stream",
     "text": [
      " USSA is a space agency in county Y. It is a government agency responsible for the exploration and development of space.\n"
     ]
    }
   ],
   "source": [
    "answer = qa_chain.run({\n",
    "'context': \"USSA is a space agency in county Y. It is a government agency responsible for the exploration and development of space.\",\n",
    "'human_input': \"What is USSA\" \n",
    "})\n",
    "\n",
    "print(answer)\n",
    "# print(qa_chain.memory)\n"
   ]
  },
  {
   "cell_type": "code",
   "execution_count": 21,
   "id": "69704b89",
   "metadata": {},
   "outputs": [
    {
     "name": "stdout",
     "output_type": "stream",
     "text": [
      " Yes, Zootopia is a 2016 American computer-animated buddy cop action comedy film produced by Walt Disney Animation Studios.\n"
     ]
    }
   ],
   "source": [
    "answer = qa_chain.run({\n",
    "'context': \"Zootopia is a 2016 American computer-animated buddy cop action comedy film produced by Walt Disney Animation Studios.\",\n",
    "'human_input': \"Is zootopia a comedy movie?\" \n",
    "}) \n",
    "\n",
    "print(answer)\n",
    "# print(qa_chain.memory)\n"
   ]
  },
  {
   "cell_type": "code",
   "execution_count": 22,
   "id": "539bc2d2",
   "metadata": {},
   "outputs": [
    {
     "name": "stdout",
     "output_type": "stream",
     "text": [
      " Yes, I know about USSA, which is a space agency in county Y, responsible for the exploration and development of space.\n"
     ]
    }
   ],
   "source": [
    "answer = qa_chain.run({\n",
    "'context': \"llm is really popular now a days.\",\n",
    "'human_input': \" Do you know about any space agency?\" \n",
    "}) \n",
    "\n",
    "print(answer)"
   ]
  },
  {
   "cell_type": "code",
   "execution_count": null,
   "id": "7c05f869",
   "metadata": {},
   "outputs": [],
   "source": []
  }
 ],
 "metadata": {
  "kernelspec": {
   "display_name": "nanogpt",
   "language": "python",
   "name": "nanogpt"
  },
  "language_info": {
   "codemirror_mode": {
    "name": "ipython",
    "version": 3
   },
   "file_extension": ".py",
   "mimetype": "text/x-python",
   "name": "python",
   "nbconvert_exporter": "python",
   "pygments_lexer": "ipython3",
   "version": "3.8.16"
  }
 },
 "nbformat": 4,
 "nbformat_minor": 5
}
