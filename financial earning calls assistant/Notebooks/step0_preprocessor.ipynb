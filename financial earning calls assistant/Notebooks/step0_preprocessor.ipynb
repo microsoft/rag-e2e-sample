{
 "cells": [
  {
   "cell_type": "code",
   "execution_count": 1,
   "metadata": {},
   "outputs": [
    {
     "name": "stdout",
     "output_type": "stream",
     "text": [
      "4\n"
     ]
    },
    {
     "name": "stderr",
     "output_type": "stream",
     "text": [
      "c:\\Users\\hokhadiv\\AppData\\Local\\miniconda3\\envs\\cvs\\lib\\site-packages\\tqdm\\auto.py:21: TqdmWarning: IProgress not found. Please update jupyter and ipywidgets. See https://ipywidgets.readthedocs.io/en/stable/user_install.html\n",
      "  from .autonotebook import tqdm as notebook_tqdm\n"
     ]
    }
   ],
   "source": [
    "from docx2pdf import convert\n",
    "import os\n",
    "\n",
    "directory = '..\\DATA'\n",
    "docx_files = [filename for filename in os.listdir(directory) if filename.endswith('.docx')]\n",
    "name_len_docx = []\n",
    "name_len_pdf = []\n",
    "print(len(docx_files))"
   ]
  },
  {
   "cell_type": "code",
   "execution_count": 2,
   "metadata": {},
   "outputs": [
    {
     "name": "stdout",
     "output_type": "stream",
     "text": [
      "MSFTTranscriptFY23Q1.docx [33]\n",
      "[32]\n"
     ]
    },
    {
     "name": "stderr",
     "output_type": "stream",
     "text": [
      "100%|██████████| 1/1 [00:08<00:00,  8.69s/it]\n"
     ]
    },
    {
     "name": "stdout",
     "output_type": "stream",
     "text": [
      "MSFTTranscriptFY23Q2.docx [33, 33]\n",
      "[32, 32]\n"
     ]
    },
    {
     "name": "stderr",
     "output_type": "stream",
     "text": [
      "100%|██████████| 1/1 [00:05<00:00,  5.47s/it]\n"
     ]
    },
    {
     "name": "stdout",
     "output_type": "stream",
     "text": [
      "MSFTTranscriptFY23Q3.docx [33, 33, 33]\n",
      "[32, 32, 32]\n"
     ]
    },
    {
     "name": "stderr",
     "output_type": "stream",
     "text": [
      "100%|██████████| 1/1 [00:03<00:00,  3.43s/it]\n"
     ]
    },
    {
     "name": "stdout",
     "output_type": "stream",
     "text": [
      "MSFTTranscriptFY23Q4.docx [33, 33, 33, 33]\n",
      "[32, 32, 32, 32]\n"
     ]
    },
    {
     "name": "stderr",
     "output_type": "stream",
     "text": [
      "100%|██████████| 1/1 [00:05<00:00,  5.98s/it]\n"
     ]
    }
   ],
   "source": [
    "for filename in docx_files:\n",
    "    \n",
    "    docx_path = os.path.join(directory, filename)\n",
    "    # if len(filename)>35:\n",
    "    #     filename = filename[:35]\n",
    "    pdf_path = os.path.join(directory, f\"{os.path.splitext(filename)[0]}.pdf\")\n",
    "\n",
    "    # Check if PDF already exists\n",
    "    if os.path.exists(pdf_path):\n",
    "        print(f\"Skipping conversion for {filename}. PDF already exists.\")\n",
    "        continue\n",
    "\n",
    "    name_len_docx.append(len(docx_path))\n",
    "    print(filename, name_len_docx)\n",
    "    name_len_pdf.append(len(pdf_path))\n",
    "    print(name_len_pdf)\n",
    "    try: \n",
    "        convert(docx_path, pdf_path)\n",
    "    except:\n",
    "        print('Error in converting file, retrying...')\n",
    "        try:\n",
    "            convert(docx_path, pdf_path)\n",
    "        except:\n",
    "            Exception(\"Error in converting file\")\n"
   ]
  }
 ],
 "metadata": {
  "kernelspec": {
   "display_name": "flexenv",
   "language": "python",
   "name": "python3"
  },
  "language_info": {
   "codemirror_mode": {
    "name": "ipython",
    "version": 3
   },
   "file_extension": ".py",
   "mimetype": "text/x-python",
   "name": "python",
   "nbconvert_exporter": "python",
   "pygments_lexer": "ipython3",
   "version": "3.10.0"
  },
  "orig_nbformat": 4
 },
 "nbformat": 4,
 "nbformat_minor": 2
}
