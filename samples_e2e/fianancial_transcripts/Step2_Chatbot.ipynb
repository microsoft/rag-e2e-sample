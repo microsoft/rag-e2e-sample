{
 "cells": [
  {
   "cell_type": "code",
   "execution_count": 1,
   "id": "3eef495f",
   "metadata": {},
   "outputs": [],
   "source": [
    "# Import required libraries  \n",
    "import os \n",
    "import openai\n",
    "from dotenv import dotenv_values\n",
    "from azure.core.credentials import AzureKeyCredential\n",
    "from langchain.chat_models import AzureChatOpenAI\n",
    "from azure.search.documents import SearchClient\n",
    "\n",
    "from chatFunctions import chatBot"
   ]
  },
  {
   "cell_type": "code",
   "execution_count": 2,
   "id": "cc7ff546",
   "metadata": {},
   "outputs": [],
   "source": [
    "env_name = \"../../llm.env\" # change to use your own .env file\n",
    "config = dotenv_values(env_name)\n",
    "\n",
    "#Azure OpenAI\n",
    "openai.api_type = config[\"OPENAI_API_TYPE\"] #\"azure\"\n",
    "openai.api_key = config['OPENAI_API_KEY']\n",
    "openai.api_base = config['OPENAI_API_BASE']\n",
    "openai.api_version = config['OPENAI_API_VERSION']\n",
    "\n",
    "## Cog Search\n",
    "cogsearch_name = config[\"COGSEARCH_NAME\"] #TODO: fill in your cognitive search name\n",
    "index_name = config[\"COGSEARCH_INDEX_NAME\"] #TODO: fill in your index name: must only contain lowercase, numbers, and dashes\n",
    "key = config[\"COGSEARCH_API_KEY\"] #TODO: fill in your api key with admin key\n",
    "service_endpoint = \"https://\"+config[\"COGSEARCH_NAME\"] + \".search.windows.net\"\n",
    "\n",
    "credential = AzureKeyCredential(key)"
   ]
  },
  {
   "cell_type": "markdown",
   "id": "ed7a66b4",
   "metadata": {},
   "source": [
    "## Chatbot"
   ]
  },
  {
   "cell_type": "code",
   "execution_count": 3,
   "id": "ced6c0d8",
   "metadata": {},
   "outputs": [],
   "source": [
    "engine = \"gpt-4-32k\"\n",
    "#engine = \"gpt-35-turbo\"\n",
    "llm = AzureChatOpenAI(\n",
    "    deployment_name=engine,\n",
    "    openai_api_base=openai.api_base,\n",
    "    openai_api_version=openai.api_version,\n",
    "    openai_api_key=openai.api_key,\n",
    "    openai_api_type = openai.api_type,\n",
    "    temperature=0.0, verbose = True\n",
    ")\n",
    "\n",
    "## ACS \n",
    "numChunks = 10\n",
    "search_client = SearchClient(endpoint=service_endpoint, index_name=index_name, credential=credential)\n",
    "\n",
    "## llm\n",
    "human_query = \" earning calls for Target\"\n",
    "\n",
    "template_qa_chain = \"\"\"You are a chatbot having a conversation with a human. \n",
    "        Given the Context, Chat History, and Human Query, \n",
    "        answer without hallucinating. If you don't have the answer say \"I don't have the answer\" \"\"\"\n",
    "\n",
    "template_context_summarization =  \"\"\"\n",
    "        Summarize the context so it includes the details related to the human query. \"\"\"\n",
    "\n",
    "max_token_for_context = 16000\n",
    "\n",
    "\n",
    "cb = chatBot(llm, search_client, max_token_for_context = max_token_for_context, \n",
    "                 template_qa_chain = template_qa_chain, template_context_summarization = template_context_summarization, \n",
    "                 numChunks= numChunks, vectorColName = \"contentVector\",\n",
    "                 to_debug = False)"
   ]
  },
  {
   "cell_type": "markdown",
   "id": "8518c821",
   "metadata": {},
   "source": [
    "## Query 1"
   ]
  },
  {
   "cell_type": "code",
   "execution_count": 4,
   "id": "9c088ab6",
   "metadata": {},
   "outputs": [
    {
     "data": {
      "text/plain": [
       "'In the transcript for Ticker TGT for the year 2021 and quarter Q4, it is mentioned that Target Corporation had 140 small format stores. They plan to add another 30 to 40 per year over the next several years.'"
      ]
     },
     "execution_count": 4,
     "metadata": {},
     "output_type": "execute_result"
    }
   ],
   "source": [
    "query = \"How many small stores was there in transcript for Ticker TGT for year 2021 and quarter Q4?\"\n",
    "cb.run(query)\n",
    "\n"
   ]
  },
  {
   "cell_type": "markdown",
   "id": "15670b2e",
   "metadata": {},
   "source": [
    "## Query 2"
   ]
  },
  {
   "cell_type": "code",
   "execution_count": 5,
   "id": "2a0a9b3d",
   "metadata": {},
   "outputs": [
    {
     "data": {
      "text/plain": [
       "'In the provided context, there are no specific details about the expense rate for Target Corporation (Ticker: TGT) for the year 2021 and quarter Q4. However, it is mentioned that they expect their 2021 SG&A expense rate to be lower than their 2019 rate of 20.8%.'"
      ]
     },
     "execution_count": 5,
     "metadata": {},
     "output_type": "execute_result"
    }
   ],
   "source": [
    "query = \"Is there any details about expense rate for Ticker TGT for year 2021 and quarter Q4 \"\n",
    "cb.run(query)"
   ]
  },
  {
   "cell_type": "markdown",
   "id": "cd521966",
   "metadata": {},
   "source": [
    "## Check memory"
   ]
  },
  {
   "cell_type": "code",
   "execution_count": 6,
   "id": "46057e3f",
   "metadata": {},
   "outputs": [
    {
     "data": {
      "text/plain": [
       "ChatMessageHistory(messages=[HumanMessage(content='How many small stores was there in transcript for Ticker TGT for year 2021 and quarter Q4?', additional_kwargs={}, example=False), AIMessage(content='In the transcript for Ticker TGT for the year 2021 and quarter Q4, it is mentioned that Target Corporation had 140 small format stores. They plan to add another 30 to 40 per year over the next several years.', additional_kwargs={}, example=False), HumanMessage(content='Is there any details about expense rate for Ticker TGT for year 2021 and quarter Q4 ', additional_kwargs={}, example=False), AIMessage(content='In the provided context, there are no specific details about the expense rate for Target Corporation (Ticker: TGT) for the year 2021 and quarter Q4. However, it is mentioned that they expect their 2021 SG&A expense rate to be lower than their 2019 rate of 20.8%.', additional_kwargs={}, example=False)])"
      ]
     },
     "execution_count": 6,
     "metadata": {},
     "output_type": "execute_result"
    }
   ],
   "source": [
    "cb.qa_chain.memory.chat_memory"
   ]
  },
  {
   "cell_type": "code",
   "execution_count": null,
   "id": "99db343e",
   "metadata": {},
   "outputs": [],
   "source": []
  }
 ],
 "metadata": {
  "kernelspec": {
   "display_name": "nanogpt",
   "language": "python",
   "name": "nanogpt"
  },
  "language_info": {
   "codemirror_mode": {
    "name": "ipython",
    "version": 3
   },
   "file_extension": ".py",
   "mimetype": "text/x-python",
   "name": "python",
   "nbconvert_exporter": "python",
   "pygments_lexer": "ipython3",
   "version": "3.8.16"
  }
 },
 "nbformat": 4,
 "nbformat_minor": 5
}
